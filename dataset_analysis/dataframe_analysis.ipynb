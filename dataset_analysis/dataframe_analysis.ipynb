{
 "cells": [
  {
   "cell_type": "markdown",
   "metadata": {},
   "source": [
    "# Dataframe analysis\n",
    "\n",
    "This notebook explores the analysis of the dataframe built from canproco at time point M0. \n",
    "It looks at correlation between age, phenotypes, nb of lesions and distribution of lesions. \n",
    "\n",
    "Author : Pierre-Louis Benveniste"
   ]
  },
  {
   "cell_type": "code",
   "execution_count": 48,
   "metadata": {},
   "outputs": [],
   "source": [
    "import numpy as np\n",
    "import pandas as pd\n",
    "import matplotlib.pyplot as plt\n",
    "import seaborn as sns\n",
    "import os\n",
    "import sys\n",
    "import yaml"
   ]
  },
  {
   "cell_type": "markdown",
   "metadata": {},
   "source": [
    "# Dataframe import\n",
    "\n",
    "We import the dataframe and exclude the subjects which are in the `exclude.yml` file. "
   ]
  },
  {
   "cell_type": "code",
   "execution_count": 49,
   "metadata": {},
   "outputs": [],
   "source": [
    "#load dataframe\n",
    "dataframe_path = '/Users/plbenveniste/Desktop/test_generate_dataframe/dataframe.csv'\n",
    "dataframe = pd.read_csv(dataframe_path)\n",
    "\n",
    "#load exclude.yml file\n",
    "exclude_path = '/Users/plbenveniste/Documents/NeuroPoly/canproco_project/canproco/exclude.yml'\n",
    "#exclude_file = pd.read_csv(exclude_path)\n",
    "with open(exclude_path, 'r') as yaml_file:\n",
    "    exclude_file = yaml.load(yaml_file, Loader=yaml.FullLoader)"
   ]
  },
  {
   "cell_type": "markdown",
   "metadata": {},
   "source": [
    "# Subject exclusion\n",
    "\n",
    "Some subjects were excluded because of poor image quality"
   ]
  },
  {
   "cell_type": "code",
   "execution_count": 50,
   "metadata": {},
   "outputs": [],
   "source": [
    "#iterate over excluded subjects\n",
    "for subject in exclude_file:\n",
    "    #exclude subject from dataframe\n",
    "    dataframe = dataframe[dataframe.participant_id != subject.split('_')[0]]\n",
    "\n",
    "#we make sure that participants are only included once\n",
    "dataframe = dataframe.drop_duplicates(subset=['participant_id'])"
   ]
  },
  {
   "cell_type": "markdown",
   "metadata": {},
   "source": [
    "# General statistics\n",
    "\n",
    "Here we compute general statistics about the dataset:\n",
    "- number of participant\n",
    "- number of healthy control\n",
    "- age distribution\n",
    "- proportion of male/female\n",
    "- number and proportion per edss/phenotype"
   ]
  },
  {
   "cell_type": "code",
   "execution_count": 66,
   "metadata": {},
   "outputs": [
    {
     "name": "stdout",
     "output_type": "stream",
     "text": [
      "Number of participants:  3\n",
      "Number of females: 2 (67%)\n",
      "Number of females: 1 (33%)\n",
      "\n",
      "Number of healthy participants: 0 (0%)\n",
      "Number of MS participants: 3 (100%)\n",
      "\n",
      "Age distribution:\n",
      "count     3.000000\n",
      "mean     39.333333\n",
      "std      13.796135\n",
      "min      29.000000\n",
      "25%      31.500000\n",
      "50%      34.000000\n",
      "75%      44.500000\n",
      "max      55.000000\n",
      "Name: age, dtype: float64\n"
     ]
    }
   ],
   "source": [
    "#number of participants\n",
    "nb_participant = len(dataframe.participant_id)\n",
    "#number of female participants\n",
    "nb_female = len(dataframe[dataframe.sex == 'F'])\n",
    "#number of male participants\n",
    "nb_male = len(dataframe[dataframe.sex == 'M'])\n",
    "#number of healthy patients\n",
    "nb_healthy = len(dataframe[dataframe.pathology == 'HC'])\n",
    "#number of MS patients\n",
    "nb_MS = len(dataframe[dataframe.pathology == 'MS'])\n",
    "\n",
    "#now we print them all:\n",
    "print('Number of participants: ', nb_participant)\n",
    "print('Number of females: '+ str(nb_female) + \" (\" + str(round(nb_female/nb_participant*100)) + \"%)\")\n",
    "print('Number of females: '+ str(nb_male) + \" (\" + str(round(nb_male/nb_participant*100)) + \"%)\\n\")\n",
    "print('Number of healthy participants: '+ str(nb_healthy) + \" (\" + str(round(nb_healthy/nb_participant*100)) + \"%)\")\n",
    "print('Number of MS participants: '+ str(nb_MS) + \" (\" + str(round(nb_MS/nb_participant*100)) + \"%)\\n\")\n",
    "print('Age distribution:')\n",
    "print(dataframe.age.describe())\n",
    "\n",
    "## Uncomment to see boxplot of age distribution\n",
    "# #now we can plot the age distribution\n",
    "# plt.figure(figsize=(3, 5))\n",
    "# plt.boxplot(dataframe.age)\n",
    "# plt.title('Age distribution')\n",
    "# plt.show()"
   ]
  },
  {
   "cell_type": "code",
   "execution_count": 71,
   "metadata": {},
   "outputs": [
    {
     "name": "stdout",
     "output_type": "stream",
     "text": [
      "EDSS distribution:\n",
      "count    3.000000\n",
      "mean     1.166667\n",
      "std      1.040833\n",
      "min      0.000000\n",
      "25%      0.750000\n",
      "50%      1.500000\n",
      "75%      1.750000\n",
      "max      2.000000\n",
      "Name: edss, dtype: float64\n"
     ]
    }
   ],
   "source": [
    "# now we show the distribution of edss scores\n",
    "print('EDSS distribution:')\n",
    "print(dataframe.edss.describe())\n",
    "\n",
    "##Uncomment to see boxplot of edss distribution\n",
    "# #now we can plot the edss distribution\n",
    "# plt.figure(figsize=(3, 5))\n",
    "# plt.boxplot(dataframe.edss)\n",
    "# plt.title('EDSS distribution')\n",
    "# plt.show()"
   ]
  },
  {
   "cell_type": "code",
   "execution_count": 73,
   "metadata": {},
   "outputs": [
    {
     "name": "stdout",
     "output_type": "stream",
     "text": [
      "Number of RIS participants: 2 (67%)\n",
      "Number of RRMS participants: 1 (33%)\n"
     ]
    },
    {
     "data": {
      "image/png": "[encoded data removed]",
      "text/plain": [
       "<Figure size 300x500 with 1 Axes>"
      ]
     },
     "metadata": {},
     "output_type": "display_data"
    }
   ],
   "source": [
    "#now we can look at the distribution of phenotypes\n",
    "phenotypes = dataframe.phenotype.unique()\n",
    "for phenotype in phenotypes:\n",
    "    print('Number of ' + phenotype + ' participants: ' + str(len(dataframe[dataframe.phenotype == phenotype])) + \" (\" + str(round(len(dataframe[dataframe.phenotype == phenotype])/nb_participant*100)) + \"%)\")\n",
    "\n",
    "## uncomment to see barplot of phenotypes\n",
    "#now we can plot the phenotype distribution\n",
    "plt.figure(figsize=(3, 5))\n",
    "sns.countplot(x='phenotype', data=dataframe)\n",
    "plt.title('Phenotype distribution')\n",
    "plt.show()\n"
   ]
  }
 ],
 "metadata": {
  "kernelspec": {
   "display_name": "Python 3",
   "language": "python",
   "name": "python3"
  },
  "language_info": {
   "codemirror_mode": {
    "name": "ipython",
    "version": 3
   },
   "file_extension": ".py",
   "mimetype": "text/x-python",
   "name": "python",
   "nbconvert_exporter": "python",
   "pygments_lexer": "ipython3",
   "version": "3.10.11"
  },
  "orig_nbformat": 4
 },
 "nbformat": 4,
 "nbformat_minor": 2
}
