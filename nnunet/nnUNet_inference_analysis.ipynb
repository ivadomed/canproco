{
 "cells": [
  {
   "cell_type": "markdown",
   "metadata": {},
   "source": [
    "# Analysis of nnUNet predictions\n",
    "\n",
    "In this Notebook we investigate the performance of the different folds of the nnUNet trained on 269 validated on 67. \n",
    "\n",
    "The results explored investigate the performance of the model on the test set composed of 89 subjects (about 20% of each site)."
   ]
  },
  {
   "cell_type": "code",
   "execution_count": null,
   "metadata": {},
   "outputs": [],
   "source": [
    "import numpy as ny\n",
    "import os\n",
    "import matplotlib.pyplot as plt\n",
    "import pandas as pd"
   ]
  },
  {
   "cell_type": "markdown",
   "metadata": {},
   "source": [
    "## Import of the 5 folds results"
   ]
  },
  {
   "cell_type": "code",
   "execution_count": null,
   "metadata": {},
   "outputs": [],
   "source": [
    "# we load the csv file of each fold\n",
    "metrics_fold_0 = pd.read_csv('/Users/plbenveniste/tmp_romane/canproco/project/canproco_final/nnunet_data/test_inference_D111_fold_0_metrics/results.csv')\n",
    "metrics_fold_1 = pd.read_csv('/Users/plbenveniste/tmp_romane/canproco/project/canproco_final/nnunet_data/test_inference_D111_fold_1_metrics/results.csv')\n",
    "metrics_fold_2 = pd.read_csv('/Users/plbenveniste/tmp_romane/canproco/project/canproco_final/nnunet_data/test_inference_D111_fold_2_metrics/results.csv')\n",
    "metrics_fold_3 = pd.read_csv('/Users/plbenveniste/tmp_romane/canproco/project/canproco_final/nnunet_data/test_inference_D111_fold_3_metrics/results.csv')\n",
    "metrics_fold_4 = pd.read_csv('/Users/plbenveniste/tmp_romane/canproco/project/canproco_final/nnunet_data/test_inference_D111_fold_4_metrics/results.csv')\n",
    "\n",
    "print(metrics_fold_0.head())"
   ]
  }
 ],
 "metadata": {
  "language_info": {
   "name": "python"
  }
 },
 "nbformat": 4,
 "nbformat_minor": 2
}
